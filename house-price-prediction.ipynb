{
 "cells": [
  {
   "cell_type": "code",
   "execution_count": 1,
   "id": "30355f3d",
   "metadata": {
    "_cell_guid": "b1076dfc-b9ad-4769-8c92-a6c4dae69d19",
    "_uuid": "8f2839f25d086af736a60e9eeb907d3b93b6e0e5",
    "execution": {
     "iopub.execute_input": "2023-08-20T07:31:04.751022Z",
     "iopub.status.busy": "2023-08-20T07:31:04.750105Z",
     "iopub.status.idle": "2023-08-20T07:31:05.991808Z",
     "shell.execute_reply": "2023-08-20T07:31:05.990379Z"
    },
    "papermill": {
     "duration": 1.251399,
     "end_time": "2023-08-20T07:31:05.994440",
     "exception": false,
     "start_time": "2023-08-20T07:31:04.743041",
     "status": "completed"
    },
    "tags": []
   },
   "outputs": [
    {
     "name": "stderr",
     "output_type": "stream",
     "text": [
      "/opt/conda/lib/python3.10/site-packages/scipy/__init__.py:146: UserWarning: A NumPy version >=1.16.5 and <1.23.0 is required for this version of SciPy (detected version 1.23.5\n",
      "  warnings.warn(f\"A NumPy version >={np_minversion} and <{np_maxversion}\"\n"
     ]
    },
    {
     "name": "stdout",
     "output_type": "stream",
     "text": [
      "/kaggle/input/house-prices-advanced-regression-techniques/sample_submission.csv\n",
      "/kaggle/input/house-prices-advanced-regression-techniques/data_description.txt\n",
      "/kaggle/input/house-prices-advanced-regression-techniques/train.csv\n",
      "/kaggle/input/house-prices-advanced-regression-techniques/test.csv\n"
     ]
    }
   ],
   "source": [
    "# This Python 3 environment comes with many helpful analytics libraries installed\n",
    "# It is defined by the kaggle/python Docker image: https://github.com/kaggle/docker-python\n",
    "# For example, here's several helpful packages to load\n",
    "\n",
    "import numpy as np # linear algebra\n",
    "import pandas as pd # data processing, CSV file I/O (e.g. pd.read_csv)\n",
    "from statsmodels.stats.outliers_influence import variance_inflation_factor\n",
    "\n",
    "# Input data files are available in the read-only \"../input/\" directory\n",
    "# For example, running this (by clicking run or pressing Shift+Enter) will list all files under the input directory\n",
    "\n",
    "import os\n",
    "for dirname, _, filenames in os.walk('/kaggle/input'):\n",
    "    for filename in filenames:\n",
    "        print(os.path.join(dirname, filename))\n",
    "\n",
    "# You can write up to 20GB to the current directory (/kaggle/working/) that gets preserved as output when you create a version using \"Save & Run All\" \n",
    "# You can also write temporary files to /kaggle/temp/, but they won't be saved outside of the current session"
   ]
  },
  {
   "cell_type": "code",
   "execution_count": null,
   "id": "aaacf8a0",
   "metadata": {
    "papermill": {
     "duration": 0.003998,
     "end_time": "2023-08-20T07:31:06.003073",
     "exception": false,
     "start_time": "2023-08-20T07:31:05.999075",
     "status": "completed"
    },
    "tags": []
   },
   "outputs": [],
   "source": []
  },
  {
   "cell_type": "code",
   "execution_count": 2,
   "id": "aee76bd5",
   "metadata": {
    "execution": {
     "iopub.execute_input": "2023-08-20T07:31:06.013702Z",
     "iopub.status.busy": "2023-08-20T07:31:06.013275Z",
     "iopub.status.idle": "2023-08-20T07:31:06.017634Z",
     "shell.execute_reply": "2023-08-20T07:31:06.016450Z"
    },
    "papermill": {
     "duration": 0.012642,
     "end_time": "2023-08-20T07:31:06.020053",
     "exception": false,
     "start_time": "2023-08-20T07:31:06.007411",
     "status": "completed"
    },
    "tags": []
   },
   "outputs": [],
   "source": [
    "# f = open('/kaggle/input/house-prices-advanced-regression-techniques/data_description.txt','r')\n",
    "# print(f.read())"
   ]
  },
  {
   "cell_type": "code",
   "execution_count": 3,
   "id": "f813288f",
   "metadata": {
    "execution": {
     "iopub.execute_input": "2023-08-20T07:31:06.030607Z",
     "iopub.status.busy": "2023-08-20T07:31:06.030194Z",
     "iopub.status.idle": "2023-08-20T07:31:06.124204Z",
     "shell.execute_reply": "2023-08-20T07:31:06.122994Z"
    },
    "papermill": {
     "duration": 0.102354,
     "end_time": "2023-08-20T07:31:06.126913",
     "exception": false,
     "start_time": "2023-08-20T07:31:06.024559",
     "status": "completed"
    },
    "tags": []
   },
   "outputs": [],
   "source": [
    "train = pd.read_csv('/kaggle/input/house-prices-advanced-regression-techniques/train.csv')\n",
    "test = pd.read_csv('/kaggle/input/house-prices-advanced-regression-techniques/test.csv')"
   ]
  },
  {
   "cell_type": "code",
   "execution_count": 4,
   "id": "480201d7",
   "metadata": {
    "execution": {
     "iopub.execute_input": "2023-08-20T07:31:06.137578Z",
     "iopub.status.busy": "2023-08-20T07:31:06.137176Z",
     "iopub.status.idle": "2023-08-20T07:31:06.175389Z",
     "shell.execute_reply": "2023-08-20T07:31:06.174193Z"
    },
    "papermill": {
     "duration": 0.046943,
     "end_time": "2023-08-20T07:31:06.178120",
     "exception": false,
     "start_time": "2023-08-20T07:31:06.131177",
     "status": "completed"
    },
    "tags": []
   },
   "outputs": [
    {
     "data": {
      "text/html": [
       "<div>\n",
       "<style scoped>\n",
       "    .dataframe tbody tr th:only-of-type {\n",
       "        vertical-align: middle;\n",
       "    }\n",
       "\n",
       "    .dataframe tbody tr th {\n",
       "        vertical-align: top;\n",
       "    }\n",
       "\n",
       "    .dataframe thead th {\n",
       "        text-align: right;\n",
       "    }\n",
       "</style>\n",
       "<table border=\"1\" class=\"dataframe\">\n",
       "  <thead>\n",
       "    <tr style=\"text-align: right;\">\n",
       "      <th></th>\n",
       "      <th>Id</th>\n",
       "      <th>MSSubClass</th>\n",
       "      <th>MSZoning</th>\n",
       "      <th>LotFrontage</th>\n",
       "      <th>LotArea</th>\n",
       "      <th>Street</th>\n",
       "      <th>Alley</th>\n",
       "      <th>LotShape</th>\n",
       "      <th>LandContour</th>\n",
       "      <th>Utilities</th>\n",
       "      <th>...</th>\n",
       "      <th>PoolArea</th>\n",
       "      <th>PoolQC</th>\n",
       "      <th>Fence</th>\n",
       "      <th>MiscFeature</th>\n",
       "      <th>MiscVal</th>\n",
       "      <th>MoSold</th>\n",
       "      <th>YrSold</th>\n",
       "      <th>SaleType</th>\n",
       "      <th>SaleCondition</th>\n",
       "      <th>SalePrice</th>\n",
       "    </tr>\n",
       "  </thead>\n",
       "  <tbody>\n",
       "    <tr>\n",
       "      <th>0</th>\n",
       "      <td>1</td>\n",
       "      <td>60</td>\n",
       "      <td>RL</td>\n",
       "      <td>65.0</td>\n",
       "      <td>8450</td>\n",
       "      <td>Pave</td>\n",
       "      <td>NaN</td>\n",
       "      <td>Reg</td>\n",
       "      <td>Lvl</td>\n",
       "      <td>AllPub</td>\n",
       "      <td>...</td>\n",
       "      <td>0</td>\n",
       "      <td>NaN</td>\n",
       "      <td>NaN</td>\n",
       "      <td>NaN</td>\n",
       "      <td>0</td>\n",
       "      <td>2</td>\n",
       "      <td>2008</td>\n",
       "      <td>WD</td>\n",
       "      <td>Normal</td>\n",
       "      <td>208500</td>\n",
       "    </tr>\n",
       "    <tr>\n",
       "      <th>1</th>\n",
       "      <td>2</td>\n",
       "      <td>20</td>\n",
       "      <td>RL</td>\n",
       "      <td>80.0</td>\n",
       "      <td>9600</td>\n",
       "      <td>Pave</td>\n",
       "      <td>NaN</td>\n",
       "      <td>Reg</td>\n",
       "      <td>Lvl</td>\n",
       "      <td>AllPub</td>\n",
       "      <td>...</td>\n",
       "      <td>0</td>\n",
       "      <td>NaN</td>\n",
       "      <td>NaN</td>\n",
       "      <td>NaN</td>\n",
       "      <td>0</td>\n",
       "      <td>5</td>\n",
       "      <td>2007</td>\n",
       "      <td>WD</td>\n",
       "      <td>Normal</td>\n",
       "      <td>181500</td>\n",
       "    </tr>\n",
       "    <tr>\n",
       "      <th>2</th>\n",
       "      <td>3</td>\n",
       "      <td>60</td>\n",
       "      <td>RL</td>\n",
       "      <td>68.0</td>\n",
       "      <td>11250</td>\n",
       "      <td>Pave</td>\n",
       "      <td>NaN</td>\n",
       "      <td>IR1</td>\n",
       "      <td>Lvl</td>\n",
       "      <td>AllPub</td>\n",
       "      <td>...</td>\n",
       "      <td>0</td>\n",
       "      <td>NaN</td>\n",
       "      <td>NaN</td>\n",
       "      <td>NaN</td>\n",
       "      <td>0</td>\n",
       "      <td>9</td>\n",
       "      <td>2008</td>\n",
       "      <td>WD</td>\n",
       "      <td>Normal</td>\n",
       "      <td>223500</td>\n",
       "    </tr>\n",
       "    <tr>\n",
       "      <th>3</th>\n",
       "      <td>4</td>\n",
       "      <td>70</td>\n",
       "      <td>RL</td>\n",
       "      <td>60.0</td>\n",
       "      <td>9550</td>\n",
       "      <td>Pave</td>\n",
       "      <td>NaN</td>\n",
       "      <td>IR1</td>\n",
       "      <td>Lvl</td>\n",
       "      <td>AllPub</td>\n",
       "      <td>...</td>\n",
       "      <td>0</td>\n",
       "      <td>NaN</td>\n",
       "      <td>NaN</td>\n",
       "      <td>NaN</td>\n",
       "      <td>0</td>\n",
       "      <td>2</td>\n",
       "      <td>2006</td>\n",
       "      <td>WD</td>\n",
       "      <td>Abnorml</td>\n",
       "      <td>140000</td>\n",
       "    </tr>\n",
       "    <tr>\n",
       "      <th>4</th>\n",
       "      <td>5</td>\n",
       "      <td>60</td>\n",
       "      <td>RL</td>\n",
       "      <td>84.0</td>\n",
       "      <td>14260</td>\n",
       "      <td>Pave</td>\n",
       "      <td>NaN</td>\n",
       "      <td>IR1</td>\n",
       "      <td>Lvl</td>\n",
       "      <td>AllPub</td>\n",
       "      <td>...</td>\n",
       "      <td>0</td>\n",
       "      <td>NaN</td>\n",
       "      <td>NaN</td>\n",
       "      <td>NaN</td>\n",
       "      <td>0</td>\n",
       "      <td>12</td>\n",
       "      <td>2008</td>\n",
       "      <td>WD</td>\n",
       "      <td>Normal</td>\n",
       "      <td>250000</td>\n",
       "    </tr>\n",
       "  </tbody>\n",
       "</table>\n",
       "<p>5 rows × 81 columns</p>\n",
       "</div>"
      ],
      "text/plain": [
       "   Id  MSSubClass MSZoning  LotFrontage  LotArea Street Alley LotShape  \\\n",
       "0   1          60       RL         65.0     8450   Pave   NaN      Reg   \n",
       "1   2          20       RL         80.0     9600   Pave   NaN      Reg   \n",
       "2   3          60       RL         68.0    11250   Pave   NaN      IR1   \n",
       "3   4          70       RL         60.0     9550   Pave   NaN      IR1   \n",
       "4   5          60       RL         84.0    14260   Pave   NaN      IR1   \n",
       "\n",
       "  LandContour Utilities  ... PoolArea PoolQC Fence MiscFeature MiscVal MoSold  \\\n",
       "0         Lvl    AllPub  ...        0    NaN   NaN         NaN       0      2   \n",
       "1         Lvl    AllPub  ...        0    NaN   NaN         NaN       0      5   \n",
       "2         Lvl    AllPub  ...        0    NaN   NaN         NaN       0      9   \n",
       "3         Lvl    AllPub  ...        0    NaN   NaN         NaN       0      2   \n",
       "4         Lvl    AllPub  ...        0    NaN   NaN         NaN       0     12   \n",
       "\n",
       "  YrSold  SaleType  SaleCondition  SalePrice  \n",
       "0   2008        WD         Normal     208500  \n",
       "1   2007        WD         Normal     181500  \n",
       "2   2008        WD         Normal     223500  \n",
       "3   2006        WD        Abnorml     140000  \n",
       "4   2008        WD         Normal     250000  \n",
       "\n",
       "[5 rows x 81 columns]"
      ]
     },
     "execution_count": 4,
     "metadata": {},
     "output_type": "execute_result"
    }
   ],
   "source": [
    "train.head(5)"
   ]
  },
  {
   "cell_type": "code",
   "execution_count": 5,
   "id": "005bf757",
   "metadata": {
    "execution": {
     "iopub.execute_input": "2023-08-20T07:31:06.189612Z",
     "iopub.status.busy": "2023-08-20T07:31:06.189205Z",
     "iopub.status.idle": "2023-08-20T07:31:06.693486Z",
     "shell.execute_reply": "2023-08-20T07:31:06.692246Z"
    },
    "papermill": {
     "duration": 0.512983,
     "end_time": "2023-08-20T07:31:06.695882",
     "exception": false,
     "start_time": "2023-08-20T07:31:06.182899",
     "status": "completed"
    },
    "tags": []
   },
   "outputs": [
    {
     "name": "stderr",
     "output_type": "stream",
     "text": [
      "/tmp/ipykernel_20/3733321342.py:3: FutureWarning: The default value of numeric_only in DataFrame.corr is deprecated. In a future version, it will default to False. Select only valid columns or specify the value of numeric_only to silence this warning.\n",
      "  corr_value = train.corr()\n"
     ]
    },
    {
     "name": "stdout",
     "output_type": "stream",
     "text": [
      "              SalePrice\n",
      "SalePrice      1.000000\n",
      "OverallQual    0.790982\n",
      "GrLivArea      0.708624\n",
      "GarageCars     0.640409\n",
      "GarageArea     0.623431\n",
      "TotalBsmtSF    0.613581\n",
      "1stFlrSF       0.605852\n",
      "FullBath       0.560664\n",
      "TotRmsAbvGrd   0.533723\n",
      "YearBuilt      0.522897\n",
      "False\n",
      "False\n",
      "True\n",
      "True\n",
      "True\n",
      "False\n",
      "False\n",
      "False\n",
      "False\n",
      "False\n",
      "1486.0459218642907\n",
      "1.7661179698216736\n",
      "472.76886145404666\n",
      "        feature        VIF\n",
      "0   OverallQual  48.155854\n",
      "1     GrLivArea  45.131462\n",
      "2    GarageCars  33.584270\n",
      "3    GarageArea  29.069732\n",
      "4   TotalBsmtSF  23.825037\n",
      "5      1stFlrSF  36.699405\n",
      "6      FullBath  17.236831\n",
      "7  TotRmsAbvGrd  56.365797\n",
      "8     YearBuilt  37.183284\n",
      "Intercept:  [-90533.16181431]\n",
      "Coefficients:\n",
      "Prediction for test set: [[103239.55340917]\n",
      " [152446.05084611]\n",
      " [164441.4024347 ]\n",
      " ...\n",
      " [138243.36895748]\n",
      " [ 83463.68199429]\n",
      " [252804.87297236]]\n",
      "R squared: 74.00\n",
      "[0.77921066 0.7425363  0.73666815 0.72541426 0.69259819]\n",
      "[0.79395467 0.71411484 0.70764402 0.71391173 0.74296739]\n"
     ]
    }
   ],
   "source": [
    "### CHoosing the Top 10 Features based on the co-relation with the depende\n",
    "from statsmodels.stats.outliers_influence import variance_inflation_factor\n",
    "corr_value = train.corr()\n",
    "sale_price_corr_val = corr_value.iloc[37:38]\n",
    "sale_price_corr_val = sale_price_corr_val.loc[:, sale_price_corr_val.ge(0).all()]\n",
    "sale_price_corr_val = sale_price_corr_val.T\n",
    "sale_price_corr_val  = sale_price_corr_val.sort_values(by=['SalePrice'],ascending=False)\n",
    "print(sale_price_corr_val.head(10))\n",
    "\n",
    "## check any nan values present for those features in train and test\n",
    "for i in range(1,11):\n",
    "    #print(train[sale_price_corr_val.index[i]].isnull().values.any())\n",
    "    print(test[sale_price_corr_val.index[i]].isnull().values.any())\n",
    "    \n",
    "## find out those values in test data as train data is perfectly fine\n",
    "\n",
    "print(test['GrLivArea'].mean())\n",
    "print(test['GarageCars'].mean())\n",
    "print(test['GarageArea'].mean())\n",
    "\n",
    "test['GrLivArea'].fillna(test['GrLivArea'].mean(), inplace=True)\n",
    "test['GarageCars'].fillna(test['GarageCars'].mean(), inplace=True)\n",
    "test['GarageArea'].fillna(test['GarageArea'].mean(), inplace=True)\n",
    "\n",
    "### Find out the most important features in order according to the variance inflation factor \n",
    "X = train[['OverallQual', 'GrLivArea', 'GarageCars','GarageArea',\n",
    "           'TotalBsmtSF','1stFlrSF','FullBath','TotRmsAbvGrd','YearBuilt']]\n",
    "\n",
    "# VIF dataframe\n",
    "vif_data = pd.DataFrame()\n",
    "vif_data[\"feature\"] = X.columns\n",
    "  \n",
    "# calculating VIF for each feature\n",
    "vif_data[\"VIF\"] = [variance_inflation_factor(X.values, i)\n",
    "                          for i in range(len(X.columns))]\n",
    "print(vif_data)\n",
    "\n",
    "\n",
    "\n",
    "\n",
    "#### prediction model ###\n",
    "\n",
    "\n",
    "x1_train = train[['TotRmsAbvGrd','OverallQual','GrLivArea','GarageCars']]\n",
    "x1_train = x1_train.values\n",
    "\n",
    "x1_test = test[['TotRmsAbvGrd','OverallQual','GrLivArea','GarageCars']]\n",
    "x1_test = x1_test.values\n",
    "\n",
    "y1_train = train[['SalePrice']]\n",
    "y1_train = y1_train.values\n",
    "\n",
    "from sklearn import linear_model\n",
    "regr = linear_model.LinearRegression()\n",
    "regr.fit(x1_train, y1_train)\n",
    "print(\"Intercept: \", regr.intercept_)\n",
    "print(\"Coefficients:\")\n",
    "list(zip(x1_train, regr.coef_))\n",
    "y_pred= regr.predict(x1_test)\n",
    "print(\"Prediction for test set: {}\".format(y_pred))\n",
    "\n",
    "from sklearn import metrics\n",
    "print('R squared: {:.2f}'.format(regr.score(x1_train,y1_train)*100))\n",
    "\n",
    "\n",
    "### Scores Can be improved with Cross Val\n",
    "\n",
    "### Improving score with k fold corss validation\n",
    "from sklearn.model_selection import cross_val_score\n",
    "from sklearn.model_selection import KFold\n",
    "lm = linear_model.LinearRegression()\n",
    "scores = cross_val_score(lm, x1_train, y1_train, scoring='r2', cv=5)\n",
    "print(scores)\n",
    "\n",
    "folds = KFold(n_splits = 5, shuffle = True, random_state = 100)\n",
    "scores = cross_val_score(lm, x1_train, y1_train, scoring='r2', cv=folds)\n",
    "print(scores)"
   ]
  },
  {
   "cell_type": "code",
   "execution_count": 6,
   "id": "683ba53c",
   "metadata": {
    "execution": {
     "iopub.execute_input": "2023-08-20T07:31:06.707617Z",
     "iopub.status.busy": "2023-08-20T07:31:06.707200Z",
     "iopub.status.idle": "2023-08-20T07:31:06.724027Z",
     "shell.execute_reply": "2023-08-20T07:31:06.722793Z"
    },
    "papermill": {
     "duration": 0.025636,
     "end_time": "2023-08-20T07:31:06.726595",
     "exception": false,
     "start_time": "2023-08-20T07:31:06.700959",
     "status": "completed"
    },
    "tags": []
   },
   "outputs": [
    {
     "name": "stdout",
     "output_type": "stream",
     "text": [
      "Intercept:  [-90533.16181431]\n",
      "Coefficients:\n",
      "Prediction for test set: [[103239.55340917]\n",
      " [152446.05084611]\n",
      " [164441.4024347 ]\n",
      " ...\n",
      " [138243.36895748]\n",
      " [ 83463.68199429]\n",
      " [252804.87297236]]\n",
      "R squared: 74.00\n"
     ]
    }
   ],
   "source": [
    "x1_train = train[['TotRmsAbvGrd','OverallQual','GrLivArea','GarageCars']]\n",
    "x1_train = x1_train.values\n",
    "\n",
    "x1_test = test[['TotRmsAbvGrd','OverallQual','GrLivArea','GarageCars']]\n",
    "x1_test = x1_test.values\n",
    "\n",
    "y1_train = train[['SalePrice']]\n",
    "y1_train = y1_train.values\n",
    "\n",
    "from sklearn import linear_model\n",
    "regr = linear_model.LinearRegression()\n",
    "regr.fit(x1_train, y1_train)\n",
    "print(\"Intercept: \", regr.intercept_)\n",
    "print(\"Coefficients:\")\n",
    "list(zip(x1_train, regr.coef_))\n",
    "y_pred= regr.predict(x1_test)\n",
    "print(\"Prediction for test set: {}\".format(y_pred))\n",
    "\n",
    "from sklearn import metrics\n",
    "print('R squared: {:.2f}'.format(regr.score(x1_train,y1_train)*100))\n"
   ]
  },
  {
   "cell_type": "code",
   "execution_count": 7,
   "id": "67bb97a1",
   "metadata": {
    "execution": {
     "iopub.execute_input": "2023-08-20T07:31:06.739578Z",
     "iopub.status.busy": "2023-08-20T07:31:06.738369Z",
     "iopub.status.idle": "2023-08-20T07:31:06.773545Z",
     "shell.execute_reply": "2023-08-20T07:31:06.772598Z"
    },
    "papermill": {
     "duration": 0.044232,
     "end_time": "2023-08-20T07:31:06.775999",
     "exception": false,
     "start_time": "2023-08-20T07:31:06.731767",
     "status": "completed"
    },
    "tags": []
   },
   "outputs": [
    {
     "name": "stdout",
     "output_type": "stream",
     "text": [
      "[0.77921066 0.7425363  0.73666815 0.72541426 0.69259819]\n",
      "[0.79395467 0.71411484 0.70764402 0.71391173 0.74296739]\n"
     ]
    }
   ],
   "source": [
    "### Scores Can be improved with Cross Val\n",
    "\n",
    "### Improving score with k fold corss validation\n",
    "from sklearn.model_selection import cross_val_score\n",
    "from sklearn.model_selection import KFold\n",
    "lm = linear_model.LinearRegression()\n",
    "scores = cross_val_score(lm, x1_train, y1_train, scoring='r2', cv=5)\n",
    "print(scores)\n",
    "\n",
    "folds = KFold(n_splits = 5, shuffle = True, random_state = 100)\n",
    "scores = cross_val_score(lm, x1_train, y1_train, scoring='r2', cv=folds)\n",
    "print(scores)"
   ]
  },
  {
   "cell_type": "code",
   "execution_count": null,
   "id": "ab3a45d5",
   "metadata": {
    "papermill": {
     "duration": 0.004911,
     "end_time": "2023-08-20T07:31:06.786136",
     "exception": false,
     "start_time": "2023-08-20T07:31:06.781225",
     "status": "completed"
    },
    "tags": []
   },
   "outputs": [],
   "source": []
  },
  {
   "cell_type": "code",
   "execution_count": null,
   "id": "e003e952",
   "metadata": {
    "papermill": {
     "duration": 0.004785,
     "end_time": "2023-08-20T07:31:06.797532",
     "exception": false,
     "start_time": "2023-08-20T07:31:06.792747",
     "status": "completed"
    },
    "tags": []
   },
   "outputs": [],
   "source": []
  }
 ],
 "metadata": {
  "kernelspec": {
   "display_name": "Python 3",
   "language": "python",
   "name": "python3"
  },
  "language_info": {
   "codemirror_mode": {
    "name": "ipython",
    "version": 3
   },
   "file_extension": ".py",
   "mimetype": "text/x-python",
   "name": "python",
   "nbconvert_exporter": "python",
   "pygments_lexer": "ipython3",
   "version": "3.10.12"
  },
  "papermill": {
   "default_parameters": {},
   "duration": 14.082318,
   "end_time": "2023-08-20T07:31:07.725844",
   "environment_variables": {},
   "exception": null,
   "input_path": "__notebook__.ipynb",
   "output_path": "__notebook__.ipynb",
   "parameters": {},
   "start_time": "2023-08-20T07:30:53.643526",
   "version": "2.4.0"
  }
 },
 "nbformat": 4,
 "nbformat_minor": 5
}
